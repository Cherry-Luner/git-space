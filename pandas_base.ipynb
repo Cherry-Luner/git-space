{
 "cells": [
  {
   "cell_type": "code",
   "execution_count": 43,
   "metadata": {
    "collapsed": true,
    "ExecuteTime": {
     "end_time": "2023-07-01T08:39:55.485848500Z",
     "start_time": "2023-07-01T08:39:55.471270Z"
    }
   },
   "outputs": [],
   "source": [
    "import pandas as pd\n",
    "#导入模块并创建DataFrame\n",
    "d=[[1,2,3,4],[1,2,3,4],[5,6,7,8],[9,10,11,12]]\n",
    "df=pd.DataFrame(d,index=['A','B','C','D'],columns=['L','M','N','O'])"
   ]
  },
  {
   "cell_type": "code",
   "execution_count": null,
   "outputs": [],
   "source": [
    "df.iloc[1,1]\n",
    "#以行列名的方式访问\n",
    "df.loc['A','L']\n",
    "df.loc[:,'L']\n",
    "df.loc['A':'C','L']\n",
    "df.iloc[0:2,0]"
   ],
   "metadata": {
    "collapsed": false
   }
  },
  {
   "cell_type": "code",
   "execution_count": 47,
   "outputs": [
    {
     "data": {
      "text/plain": "A    666\nB    666\nC    666\nD    666\nName: L, dtype: int64"
     },
     "execution_count": 47,
     "metadata": {},
     "output_type": "execute_result"
    }
   ],
   "source": [
    "#修改数据\n",
    "df.loc['A','L']=101\n",
    "df.loc[:,'L']=666\n",
    "df.loc[:,'L']"
   ],
   "metadata": {
    "collapsed": false,
    "ExecuteTime": {
     "end_time": "2023-07-01T08:41:14.916442900Z",
     "start_time": "2023-07-01T08:41:14.907444800Z"
    }
   }
  },
  {
   "cell_type": "code",
   "execution_count": 55,
   "outputs": [
    {
     "data": {
      "text/plain": "   A  B  C\nb  4  5  6\nc  7  8  9",
      "text/html": "<div>\n<style scoped>\n    .dataframe tbody tr th:only-of-type {\n        vertical-align: middle;\n    }\n\n    .dataframe tbody tr th {\n        vertical-align: top;\n    }\n\n    .dataframe thead th {\n        text-align: right;\n    }\n</style>\n<table border=\"1\" class=\"dataframe\">\n  <thead>\n    <tr style=\"text-align: right;\">\n      <th></th>\n      <th>A</th>\n      <th>B</th>\n      <th>C</th>\n    </tr>\n  </thead>\n  <tbody>\n    <tr>\n      <th>b</th>\n      <td>4</td>\n      <td>5</td>\n      <td>6</td>\n    </tr>\n    <tr>\n      <th>c</th>\n      <td>7</td>\n      <td>8</td>\n      <td>9</td>\n    </tr>\n  </tbody>\n</table>\n</div>"
     },
     "execution_count": 55,
     "metadata": {},
     "output_type": "execute_result"
    }
   ],
   "source": [
    "d=[[1,2,3],[4,5,6],[7,8,9]]\n",
    "df=pd.DataFrame(d,index=['a','b','c'],columns=['A','B','C'])\n",
    "#删除指定行列，axis=0 代表行，1 代表列\n",
    "df.drop('A',axis=1)\n",
    "df.drop('a',axis=0)"
   ],
   "metadata": {
    "collapsed": false,
    "ExecuteTime": {
     "end_time": "2023-07-01T09:20:27.195323Z",
     "start_time": "2023-07-01T09:20:27.162467800Z"
    }
   }
  }
 ],
 "metadata": {
  "kernelspec": {
   "display_name": "Python 3",
   "language": "python",
   "name": "python3"
  },
  "language_info": {
   "codemirror_mode": {
    "name": "ipython",
    "version": 2
   },
   "file_extension": ".py",
   "mimetype": "text/x-python",
   "name": "python",
   "nbconvert_exporter": "python",
   "pygments_lexer": "ipython2",
   "version": "2.7.6"
  }
 },
 "nbformat": 4,
 "nbformat_minor": 0
}
